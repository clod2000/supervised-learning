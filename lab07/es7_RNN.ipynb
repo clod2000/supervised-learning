{
 "cells": [
  {
   "cell_type": "markdown",
   "metadata": {
    "id": "shbM3zJAuPI9"
   },
   "source": [
    "In this lab you will do the following steps in order:\n",
    "\n",
    "1. Load and parse text.\n",
    "2. Train a LSTM network for single character generation.\n",
    "3. Generate some text with the trained LSTM network.\n",
    "\n",
    "\n"
   ]
  },
  {
   "cell_type": "markdown",
   "metadata": {
    "id": "6F0vCe0kzcJ9"
   },
   "source": [
    "Use GPU if available"
   ]
  },
  {
   "cell_type": "code",
   "execution_count": 1,
   "metadata": {
    "id": "5bun1lQdwoqy",
    "ExecuteTime": {
     "end_time": "2024-05-08T07:05:12.498327Z",
     "start_time": "2024-05-08T07:05:09.908699Z"
    }
   },
   "outputs": [
    {
     "name": "stdout",
     "output_type": "stream",
     "text": [
      "CUDA is available!  Training on GPU ...\n",
      "cuda:0\n"
     ]
    }
   ],
   "source": [
    "import torch\n",
    "train_on_gpu = torch.cuda.is_available()\n",
    "if not train_on_gpu:\n",
    "    print('CUDA is not available.  Training on CPU ...')\n",
    "else:\n",
    "    print('CUDA is available!  Training on GPU ...')\n",
    "device = torch.device(\"cuda:0\" if train_on_gpu else \"cpu\")\n",
    "print(device)"
   ]
  },
  {
   "cell_type": "code",
   "execution_count": 1,
   "metadata": {
    "id": "IWU1vPVJVcXS",
    "ExecuteTime": {
     "end_time": "2024-05-08T12:53:09.332204Z",
     "start_time": "2024-05-08T12:53:08.525037Z"
    }
   },
   "outputs": [],
   "source": [
    "import numpy as np\n",
    "import torch\n",
    "import torch.nn as nn\n",
    "import torch.optim as optim\n",
    "import torch.utils.data as data\n",
    "import re"
   ]
  },
  {
   "cell_type": "code",
   "outputs": [],
   "source": [
    "import matplotlib.pyplot as plt\n",
    "\n",
    "def Print_loss(tst_loss = None, tr_loss = None, figsize = (10,8)):\n",
    "    \n",
    "    if tr_loss is None and tst_loss is None: \n",
    "        print(\"ERROR: no values are given\")\n",
    "        return \n",
    "    \n",
    "    if tst_loss is None:\n",
    "        x = np.arange(1,len(tr_loss)+1)\n",
    "    else: \n",
    "        x = np.arange(1,len(tst_loss)+1)\n",
    "        \n",
    "    plt.figure(figsize = figsize)\n",
    "    \n",
    "    if tr_loss is not None:\n",
    "        plt.plot(x,tr_loss, label = \"training loss\")\n",
    "        print(\"Training loss minimum:\",np.min(tr_loss))\n",
    "    \n",
    "    if tst_loss is not None:    \n",
    "        plt.plot(x,tst_loss, label = \"validation loss\")\n",
    "        print(\"Validation loss minimum:\",np.min(tst_loss))\n",
    "    \n",
    "    plt.title(\"Loss vs epochs\")\n",
    "    plt.xlabel(\"epochs\")\n",
    "    plt.ylabel(\"loss\")\n",
    "    plt.legend()\n",
    "    plt.grid(alpha=0.3)\n",
    "    \n",
    "    return "
   ],
   "metadata": {
    "collapsed": false,
    "ExecuteTime": {
     "end_time": "2024-05-08T12:53:09.680491Z",
     "start_time": "2024-05-08T12:53:09.448591Z"
    }
   },
   "execution_count": 2
  },
  {
   "cell_type": "markdown",
   "metadata": {
    "id": "UST5r9rhVdqY"
   },
   "source": [
    "1. load dataset"
   ]
  },
  {
   "cell_type": "code",
   "execution_count": 4,
   "metadata": {
    "id": "0Lqa4ncgVlWT",
    "ExecuteTime": {
     "end_time": "2024-05-08T07:05:20.169136Z",
     "start_time": "2024-05-08T07:05:20.150863Z"
    }
   },
   "outputs": [
    {
     "name": "stdout",
     "output_type": "stream",
     "text": [
      "ok  title alices adventures in wonderland  author lewis carroll  release date june   ebook                  most recently updated february    language english  credits arthur dibianca and david widger\n",
      "Total Characters train: 108293\n",
      "Total Characters test: 30941\n",
      "Total Unique Characters (Vocabulary Size): 27\n",
      "Chars:  [' ', 'a', 'b', 'c', 'd', 'e', 'f', 'g', 'h', 'i', 'j', 'k', 'l', 'm', 'n', 'o', 'p', 'q', 'r', 's', 't', 'u', 'v', 'w', 'x', 'y', 'z']\n"
     ]
    }
   ],
   "source": [
    "# Download the text file \"Alice's Adventures in Wonderland\" from Project Gutenberg\n",
    "#!wget -O wonderland.txt https://www.gutenberg.org/ebooks/11.txt.utf-8\n",
    "\n",
    "# Load the text data from the downloaded file\n",
    "filename = \"wonderland.txt\"\n",
    "with open(filename, 'r', encoding='utf-8') as f:\n",
    "  raw_text = f.read()\n",
    "\n",
    "# Convert all characters to lowercase\n",
    "raw_text = raw_text.lower()\n",
    "\n",
    "# Remove non-alphanumeric characters\n",
    "raw_text = re.sub(r'\\n', ' ', raw_text)\n",
    "raw_text = re.sub(r'[^A-Za-z ]+', '', raw_text)\n",
    "\n",
    "print(raw_text[500:700])\n",
    "# Create a set of unique characters in the text\n",
    "unique_chars = set(raw_text)\n",
    "\n",
    "# Sort the unique characters\n",
    "chars = sorted(list(unique_chars))\n",
    "\n",
    "# Create a dictionary mapping each unique character to a unique integer\n",
    "char_to_int = dict((c, i) for i, c in enumerate(chars))\n",
    "\n",
    "# Split the text into training and testing sets\n",
    "train_start = int(len(raw_text) * 0.1)  # Starting index for training set (10% of text)\n",
    "train_end = int(len(raw_text) * 0.8)  # Ending index for training set (80% of text)\n",
    "test_start = train_end  # Starting index for testing set (remaining 20% of text)\n",
    "\n",
    "raw_text_train = raw_text[train_start:train_end]  # Extract training text\n",
    "raw_text_test = raw_text[test_start:]  # Extract testing text\n",
    "\n",
    "# Calculate and print some summary statistics\n",
    "n_chars_train = len(raw_text_train)\n",
    "n_chars_test = len(raw_text_test)\n",
    "n_vocab = len(chars)\n",
    "\n",
    "print(\"Total Characters train:\", n_chars_train)\n",
    "print(\"Total Characters test:\", n_chars_test)\n",
    "print(\"Total Unique Characters (Vocabulary Size):\", n_vocab)\n",
    "print(\"Chars: \",chars)"
   ]
  },
  {
   "cell_type": "markdown",
   "metadata": {
    "id": "tyapEnC6X5p9"
   },
   "source": [
    "Prepare the dataset of input to output pairs encoded as integers.\n",
    "\n",
    "The model takes input sequences of 100 characters and predicts the character 101"
   ]
  },
  {
   "cell_type": "code",
   "execution_count": 5,
   "metadata": {
    "id": "fMCNdvvvX4YD",
    "ExecuteTime": {
     "end_time": "2024-05-08T07:05:23.796453Z",
     "start_time": "2024-05-08T07:05:21.859892Z"
    }
   },
   "outputs": [
    {
     "name": "stdout",
     "output_type": "stream",
     "text": [
      "Total Patterns train:  108193\n",
      "Total Patterns test:  30841\n"
     ]
    }
   ],
   "source": [
    "# Define the sequence length for character prediction\n",
    "seq_length = 100\n",
    "\n",
    "# List to store sequences of characters as integer indices\n",
    "dataX = []\n",
    "\n",
    "# List to store target characters (next character) as integer indices\n",
    "dataY = []\n",
    "\n",
    "# Loop through the training text with a stride of 1 character\n",
    "for i in range(0, n_chars_train - seq_length, 1):\n",
    "  # Extract an input sequence of length 'seq_length' from the training text\n",
    "  seq_in = raw_text_train[i:i + seq_length]\n",
    "\n",
    "  # Extract the target character (next character to predict)\n",
    "  seq_out = raw_text_train[i + seq_length]\n",
    "\n",
    "  # Convert characters in the input sequence to their integer indices using the mapping dictionary\n",
    "  dataX.append([char_to_int[char] for char in seq_in])\n",
    "\n",
    "  # Append the target character's integer index to the output list\n",
    "  dataY.append(char_to_int[seq_out])\n",
    "\n",
    "# Count the total number of training patterns (sequences-target character pairs)\n",
    "n_patterns = len(dataX)\n",
    "print(\"Total Patterns train: \", n_patterns)\n",
    "\n",
    "# Convert the lists of integer indices (dataX and dataY) into PyTorch tensors\n",
    "X_train = torch.tensor(dataX, dtype=torch.float32)\n",
    "y_train = torch.tensor(dataY)\n",
    "\n",
    "# Reshape the input sequences into a 3D tensor with dimensions:\n",
    "#   - n_patterns: Number of training patterns\n",
    "#   - seq_length: Length of the input sequence\n",
    "#   - 1: Number of features (one-hot encoded characters can be represented as floats here)\n",
    "X_train = X_train.reshape(n_patterns, seq_length, 1)\n",
    "\n",
    "# Normalize the input sequences by dividing each element by the vocabulary size\n",
    "# This helps the training process of the model\n",
    "X_train = X_train / float(n_vocab)\n",
    "\n",
    "# Prepare testing data (similar to training data preparation)\n",
    "\n",
    "y_train = torch.tensor(dataY)\n",
    "\n",
    "#test\n",
    "dataX = []\n",
    "dataY = []\n",
    "for i in range(0, n_chars_test - seq_length, 1):\n",
    "    seq_in = raw_text_test[i:i + seq_length]\n",
    "    seq_out = raw_text_test[i + seq_length]\n",
    "    dataX.append([char_to_int[char] for char in seq_in])\n",
    "    dataY.append(char_to_int[seq_out])\n",
    "n_patterns = len(dataX)\n",
    "print(\"Total Patterns test: \", n_patterns)\n",
    "# Convert the testing data lists to tensors, reshape, normalize, and create target tensor\n",
    "X_test = torch.tensor(dataX, dtype=torch.float32).reshape(n_patterns, seq_length, 1)\n",
    "X_test = X_test / float(n_vocab)\n",
    "y_test = torch.tensor(dataY)\n"
   ]
  },
  {
   "cell_type": "markdown",
   "metadata": {
    "id": "krCe-YU9YMpd"
   },
   "source": [
    "Train setup and dataloader"
   ]
  },
  {
   "cell_type": "markdown",
   "source": [
    "## Three layers LSTM"
   ],
   "metadata": {
    "collapsed": false
   }
  },
  {
   "cell_type": "code",
   "outputs": [],
   "source": [
    "class CharModel(nn.Module):\n",
    "  \"\"\"\n",
    "  Character-Level Language Model using LSTM.\n",
    "\n",
    "  This class defines a recurrent neural network (RNN) model with a Long Short-Term Memory (LSTM) layer\n",
    "  for character-level language modeling.\n",
    "\n",
    "  Attributes:\n",
    "      lstm: An LSTM layer with specified input size, hidden size, number of layers, and dropout rate.\n",
    "      linear: A linear layer to map the LSTM output to the vocabulary size (number of characters).\n",
    "  \"\"\"\n",
    "\n",
    "  def __init__(self, n_vocab):\n",
    "    \"\"\"\n",
    "    Initializes the model with an LSTM layer and a linear layer.\n",
    "\n",
    "    Args:\n",
    "        None\n",
    "    \"\"\"\n",
    "    super().__init__()  # Call the superclass constructor\n",
    "\n",
    "    # Define the LSTM layer\n",
    "    self.lstm = nn.LSTM(\n",
    "        input_size=1,  # Input size: one-hot encoded characters (represented as floats here)\n",
    "        hidden_size=512,  # Hidden size of the LSTM layer\n",
    "        num_layers=3,  # Number of LSTM layers stacked on top of each other\n",
    "        batch_first=True,  # Input tensors are of shape (batch_size, seq_len, features)\n",
    "        dropout=0.4  # Dropout rate for regularization\n",
    "    )\n",
    "\n",
    "    # Define the linear layer for output\n",
    "    self.linear = nn.Linear(512, n_vocab)  # Map LSTM output to vocabulary size (number of characters)\n",
    "\n",
    "  def forward(self, x):\n",
    "    \"\"\"\n",
    "    Defines the forward pass of the model.\n",
    "\n",
    "    Args:\n",
    "        x: A PyTorch tensor of shape (batch_size, seq_len, features) representing the input sequences.\n",
    "\n",
    "    Returns:\n",
    "        A PyTorch tensor of shape (batch_size, vocab_size) containing the model's output logits.\n",
    "    \"\"\"\n",
    "\n",
    "    # Pass the input sequence through the LSTM layer\n",
    "    # The output (`x`) will be a tuple containing the output tensor and the hidden/cell states (not used here)\n",
    "    x, _ = self.lstm(x)\n",
    "\n",
    "    # Print the output shape for debugging purposes (can be commented out)\n",
    "    # print(x.shape)\n",
    "\n",
    "    # Take only the last output from the sequence (represents the model's prediction based on the entire sequence)\n",
    "    x = x[:, -1, :]  # Select the last element from the sequence dimension\n",
    "\n",
    "    # Pass the LSTM output through the linear layer to get logits for the next character prediction\n",
    "    x = self.linear(x)\n",
    "\n",
    "    return x\n"
   ],
   "metadata": {
    "collapsed": false,
    "ExecuteTime": {
     "end_time": "2024-05-08T07:06:37.529404Z",
     "start_time": "2024-05-08T07:06:37.525687Z"
    }
   },
   "execution_count": 7
  },
  {
   "cell_type": "code",
   "outputs": [],
   "source": [
    "# Hyperparameters for training\n",
    "n_epochs = 60  # Number of training epochs\n",
    "batch_size = 128  # Batch size for training\n",
    "\n",
    "# Move the model to the appropriate device (CPU or GPU)\n",
    "model = CharModel(n_vocab)\n",
    "model.to(device)\n",
    "\n",
    "# Define optimizer for training (Adam optimizer with learning rate adjustment)\n",
    "optimizer = optim.Adam(model.parameters())\n",
    "\n",
    "# Define loss function (CrossEntropyLoss for character-level prediction)\n",
    "loss_fn = nn.CrossEntropyLoss()\n",
    "\n",
    "# Create training data loader\n",
    "loader_train = data.DataLoader(\n",
    "    data.TensorDataset(X_train, y_train),  # Dataset containing input sequences and target characters\n",
    "    shuffle=True,  # Shuffle the data for each epoch\n",
    "    batch_size=batch_size  # Batch size for training\n",
    ")\n",
    "\n",
    "# Create testing data loader (without shuffling and with batch size 1 for character-by-character prediction)\n",
    "loader_test = data.DataLoader(\n",
    "    data.TensorDataset(X_test, y_test),\n",
    "    shuffle=False,  # Don't shuffle testing data\n",
    "    batch_size=1  # Predict character by character for testing\n",
    ")\n"
   ],
   "metadata": {
    "collapsed": false,
    "ExecuteTime": {
     "end_time": "2024-05-08T07:06:39.475145Z",
     "start_time": "2024-05-08T07:06:38.577788Z"
    }
   },
   "execution_count": 8
  },
  {
   "cell_type": "code",
   "outputs": [
    {
     "data": {
      "text/plain": "  0%|          | 0/60 [00:00<?, ?it/s]",
      "application/vnd.jupyter.widget-view+json": {
       "version_major": 2,
       "version_minor": 0,
       "model_id": "c20f46f02f7b4141a5a97da299446f7a"
      }
     },
     "metadata": {},
     "output_type": "display_data"
    },
    {
     "data": {
      "text/plain": "  0%|          | 0/846 [00:00<?, ?it/s]",
      "application/vnd.jupyter.widget-view+json": {
       "version_major": 2,
       "version_minor": 0,
       "model_id": "c270a9d492a245c99fa9fa70b3482092"
      }
     },
     "metadata": {},
     "output_type": "display_data"
    },
    {
     "name": "stdout",
     "output_type": "stream",
     "text": [
      "training loss:  2.54391\n",
      "**BEST**Epoch 1: Cross-entropy: 2.4846\n"
     ]
    },
    {
     "data": {
      "text/plain": "  0%|          | 0/846 [00:00<?, ?it/s]",
      "application/vnd.jupyter.widget-view+json": {
       "version_major": 2,
       "version_minor": 0,
       "model_id": "1e81f9908a3847b4a2214775e76deb5d"
      }
     },
     "metadata": {},
     "output_type": "display_data"
    },
    {
     "name": "stdout",
     "output_type": "stream",
     "text": [
      "training loss:  2.0329306\n",
      "**BEST**Epoch 2: Cross-entropy: 2.3200\n"
     ]
    },
    {
     "data": {
      "text/plain": "  0%|          | 0/846 [00:00<?, ?it/s]",
      "application/vnd.jupyter.widget-view+json": {
       "version_major": 2,
       "version_minor": 0,
       "model_id": "1d532d25495f4984becc86a176bafc34"
      }
     },
     "metadata": {},
     "output_type": "display_data"
    },
    {
     "name": "stdout",
     "output_type": "stream",
     "text": [
      "training loss:  1.7898463\n",
      "**BEST**Epoch 3: Cross-entropy: 2.2567\n"
     ]
    },
    {
     "data": {
      "text/plain": "  0%|          | 0/846 [00:00<?, ?it/s]",
      "application/vnd.jupyter.widget-view+json": {
       "version_major": 2,
       "version_minor": 0,
       "model_id": "a3479124c82846caad7d82d8e1282bdf"
      }
     },
     "metadata": {},
     "output_type": "display_data"
    },
    {
     "name": "stdout",
     "output_type": "stream",
     "text": [
      "training loss:  1.6305332\n",
      "**BEST**Epoch 4: Cross-entropy: 2.2123\n"
     ]
    },
    {
     "data": {
      "text/plain": "  0%|          | 0/846 [00:00<?, ?it/s]",
      "application/vnd.jupyter.widget-view+json": {
       "version_major": 2,
       "version_minor": 0,
       "model_id": "36273d86adf74ef0a271144f979084c4"
      }
     },
     "metadata": {},
     "output_type": "display_data"
    },
    {
     "name": "stdout",
     "output_type": "stream",
     "text": [
      "training loss:  1.5089284\n",
      "Epoch 5: Cross-entropy: 2.2479\n"
     ]
    },
    {
     "data": {
      "text/plain": "  0%|          | 0/846 [00:00<?, ?it/s]",
      "application/vnd.jupyter.widget-view+json": {
       "version_major": 2,
       "version_minor": 0,
       "model_id": "3bbf7c915bf0408ab461aeb7e145dc91"
      }
     },
     "metadata": {},
     "output_type": "display_data"
    },
    {
     "name": "stdout",
     "output_type": "stream",
     "text": [
      "training loss:  1.4067582\n",
      "Epoch 6: Cross-entropy: 2.2421\n"
     ]
    },
    {
     "data": {
      "text/plain": "  0%|          | 0/846 [00:00<?, ?it/s]",
      "application/vnd.jupyter.widget-view+json": {
       "version_major": 2,
       "version_minor": 0,
       "model_id": "f0b64adc088244418ad795f9047599f7"
      }
     },
     "metadata": {},
     "output_type": "display_data"
    },
    {
     "name": "stdout",
     "output_type": "stream",
     "text": [
      "training loss:  1.3214926\n",
      "Epoch 7: Cross-entropy: 2.2561\n"
     ]
    },
    {
     "data": {
      "text/plain": "  0%|          | 0/846 [00:00<?, ?it/s]",
      "application/vnd.jupyter.widget-view+json": {
       "version_major": 2,
       "version_minor": 0,
       "model_id": "4798b08ab0b54ae59dc9554ba4831d1a"
      }
     },
     "metadata": {},
     "output_type": "display_data"
    },
    {
     "name": "stdout",
     "output_type": "stream",
     "text": [
      "training loss:  1.2417365\n",
      "Epoch 8: Cross-entropy: 2.3063\n"
     ]
    },
    {
     "data": {
      "text/plain": "  0%|          | 0/846 [00:00<?, ?it/s]",
      "application/vnd.jupyter.widget-view+json": {
       "version_major": 2,
       "version_minor": 0,
       "model_id": "a10cab6c1c2b4e66961bf1a38e47a4f6"
      }
     },
     "metadata": {},
     "output_type": "display_data"
    },
    {
     "name": "stdout",
     "output_type": "stream",
     "text": [
      "training loss:  1.1642234\n",
      "Epoch 9: Cross-entropy: 2.3542\n"
     ]
    },
    {
     "data": {
      "text/plain": "  0%|          | 0/846 [00:00<?, ?it/s]",
      "application/vnd.jupyter.widget-view+json": {
       "version_major": 2,
       "version_minor": 0,
       "model_id": "6020c392ab0e4966b0a7b4c148a5a798"
      }
     },
     "metadata": {},
     "output_type": "display_data"
    },
    {
     "name": "stdout",
     "output_type": "stream",
     "text": [
      "training loss:  1.0927869\n",
      "Epoch 10: Cross-entropy: 2.4026\n",
      "Stop training!\n"
     ]
    }
   ],
   "source": [
    "from tqdm.auto import tqdm  # Import tqdm for progress bars\n",
    "\n",
    "tr_loss_list = []\n",
    "loss_list= []  # save losses for graphical representation\n",
    "\n",
    "# Initialize variables for early stopping\n",
    "best_model = None\n",
    "best_loss = np.inf  # Initialize with positive infinity\n",
    "patience = 6  # Number of epochs to wait for improvement before stopping\n",
    "\n",
    "# Training loop\n",
    "for epoch in tqdm(range(n_epochs)):\n",
    "    # Set model to training mode\n",
    "    model.train()\n",
    "\n",
    "    train_losses = []\n",
    "    # Iterate through training batches using the data loader\n",
    "    for X_batch, y_batch in tqdm(loader_train):\n",
    "        # Clear gradients from the previous iteration\n",
    "        optimizer.zero_grad()\n",
    "\n",
    "        # Get predictions for the current batch\n",
    "        y_pred = model(X_batch.to(device))\n",
    "\n",
    "        # Calculate loss for the current batch\n",
    "        loss = loss_fn(y_pred, y_batch.to(device))\n",
    "        train_losses.append(loss.cpu().detach().numpy())\n",
    "\n",
    "        # Calculate the average validation loss\n",
    "       \n",
    "        # Backpropagate the loss to calculate gradients\n",
    "        loss.backward()\n",
    "\n",
    "        # Update model parameters based on the gradients\n",
    "        optimizer.step()\n",
    "\n",
    "    # Validation after each epoch\n",
    "    model.eval()  # Set model to evaluation mode\n",
    "    avg_training_loss = np.mean(train_losses)\n",
    "    tr_loss_list.append(avg_training_loss)\n",
    "    print(\"training loss: \", avg_training_loss)\n",
    "    # List to store validation losses\n",
    "    validation_losses = []\n",
    "\n",
    "    # Disable gradient calculation for validation (saves memory)\n",
    "    with torch.no_grad():\n",
    "        # Iterate through testing batches\n",
    "        for X_batch, y_batch in loader_test:\n",
    "            # Get predictions for the validation batch\n",
    "            y_pred = model(X_batch.to(device))\n",
    "\n",
    "            # Calculate validation loss for the current batch\n",
    "            validation_loss = loss_fn(y_pred.to(device), y_batch.to(device)).cpu()\n",
    "\n",
    "            # Append the validation loss to the list\n",
    "            validation_losses.append(validation_loss)\n",
    "\n",
    "        # Calculate the average validation loss\n",
    "        avg_validation_loss = np.mean(validation_losses)\n",
    "\n",
    "        # Track best model and save if validation loss improves\n",
    "        if avg_validation_loss < best_loss:\n",
    "            best_loss = avg_validation_loss\n",
    "            best_model = model.state_dict()  # Save the model's state dictionary\n",
    "            torch.save([best_model, char_to_int], \"single-charLSTM_3layers.pth\")  # Save model and character mapping\n",
    "            patience = 6  # Reset patience counter for early stopping\n",
    "            print(\"**BEST**\", end=\"\")  # Print indicator for best model\n",
    "        else:\n",
    "            patience -= 1  # Decrement patience counter if validation loss doesn't improve\n",
    "\n",
    "        # Print epoch information and validation loss\n",
    "        print(\"Epoch %d: Cross-entropy: %.4f\" % (epoch +1, avg_validation_loss))\n",
    "        loss_list.append(avg_validation_loss)\n",
    "        # Implement early stopping\n",
    "        if patience <= 0:\n",
    "            print(\"Stop training!\")\n",
    "            break\n"
   ],
   "metadata": {
    "collapsed": false,
    "ExecuteTime": {
     "end_time": "2024-05-08T08:06:21.989991Z",
     "start_time": "2024-05-08T07:06:52.296659Z"
    }
   },
   "execution_count": 11
  },
  {
   "cell_type": "code",
   "outputs": [
    {
     "name": "stdout",
     "output_type": "stream",
     "text": [
      "Training loss minimum: 1.0927869\n",
      "Validation loss minimum: 2.2123225\n"
     ]
    },
    {
     "data": {
      "text/plain": "<Figure size 1000x800 with 1 Axes>",
      "image/png": "[encoded data removed]"
     },
     "metadata": {},
     "output_type": "display_data"
    }
   ],
   "source": [
    "Print_loss(tr_loss=tr_loss_list,tst_loss=loss_list)"
   ],
   "metadata": {
    "collapsed": false,
    "ExecuteTime": {
     "end_time": "2024-05-08T08:06:22.167012Z",
     "start_time": "2024-05-08T08:06:21.991061Z"
    }
   },
   "execution_count": 12
  },
  {
   "cell_type": "markdown",
   "source": [
    "## 4 Layers LSTM\n"
   ],
   "metadata": {
    "collapsed": false
   }
  },
  {
   "cell_type": "code",
   "outputs": [],
   "source": [
    "class CharModel(nn.Module):\n",
    "  \"\"\"\n",
    "  Character-Level Language Model using LSTM.\n",
    "\n",
    "  This class defines a recurrent neural network (RNN) model with a Long Short-Term Memory (LSTM) layer\n",
    "  for character-level language modeling.\n",
    "\n",
    "  Attributes:\n",
    "      lstm: An LSTM layer with specified input size, hidden size, number of layers, and dropout rate.\n",
    "      linear: A linear layer to map the LSTM output to the vocabulary size (number of characters).\n",
    "  \"\"\"\n",
    "\n",
    "  def __init__(self, n_vocab):\n",
    "    \"\"\"\n",
    "    Initializes the model with an LSTM layer and a linear layer.\n",
    "\n",
    "    Args:\n",
    "        None\n",
    "    \"\"\"\n",
    "    super().__init__()  # Call the superclass constructor\n",
    "\n",
    "    # Define the LSTM layer\n",
    "    self.lstm = nn.LSTM(\n",
    "        input_size=1,  # Input size: one-hot encoded characters (represented as floats here)\n",
    "        hidden_size=512,  # Hidden size of the LSTM layer\n",
    "        num_layers=4,  # Number of LSTM layers stacked on top of each other\n",
    "        batch_first=True,  # Input tensors are of shape (batch_size, seq_len, features)\n",
    "        dropout=0.6  # Dropout rate for regularization\n",
    "    )\n",
    "\n",
    "    # Define the linear layer for output\n",
    "    self.linear = nn.Linear(512, n_vocab)  # Map LSTM output to vocabulary size (number of characters)\n",
    "\n",
    "  def forward(self, x):\n",
    "    \"\"\"\n",
    "    Defines the forward pass of the model.\n",
    "\n",
    "    Args:\n",
    "        x: A PyTorch tensor of shape (batch_size, seq_len, features) representing the input sequences.\n",
    "\n",
    "    Returns:\n",
    "        A PyTorch tensor of shape (batch_size, vocab_size) containing the model's output logits.\n",
    "    \"\"\"\n",
    "\n",
    "    # Pass the input sequence through the LSTM layer\n",
    "    # The output (`x`) will be a tuple containing the output tensor and the hidden/cell states (not used here)\n",
    "    x, _ = self.lstm(x)\n",
    "\n",
    "    # Print the output shape for debugging purposes (can be commented out)\n",
    "    # print(x.shape)\n",
    "\n",
    "    # Take only the last output from the sequence (represents the model's prediction based on the entire sequence)\n",
    "    x = x[:, -1, :]  # Select the last element from the sequence dimension\n",
    "\n",
    "    # Pass the LSTM output through the linear layer to get logits for the next character prediction\n",
    "    x = self.linear(x)\n",
    "\n",
    "    return x\n"
   ],
   "metadata": {
    "collapsed": false
   },
   "execution_count": null
  },
  {
   "cell_type": "code",
   "outputs": [],
   "source": [
    "# Hyperparameters for training\n",
    "n_epochs = 60  # Number of training epochs\n",
    "batch_size = 128  # Batch size for training\n",
    "\n",
    "# Move the model to the appropriate device (CPU or GPU)\n",
    "model = CharModel(n_vocab)\n",
    "model.to(device)\n",
    "\n",
    "# Define optimizer for training (Adam optimizer with learning rate adjustment)\n",
    "optimizer = optim.Adam(model.parameters())\n",
    "\n",
    "# Define loss function (CrossEntropyLoss for character-level prediction)\n",
    "loss_fn = nn.CrossEntropyLoss()\n",
    "\n",
    "# Create training data loader\n",
    "loader_train = data.DataLoader(\n",
    "    data.TensorDataset(X_train, y_train),  # Dataset containing input sequences and target characters\n",
    "    shuffle=True,  # Shuffle the data for each epoch\n",
    "    batch_size=batch_size  # Batch size for training\n",
    ")\n",
    "\n",
    "# Create testing data loader (without shuffling and with batch size 1 for character-by-character prediction)\n",
    "loader_test = data.DataLoader(\n",
    "    data.TensorDataset(X_test, y_test),\n",
    "    shuffle=False,  # Don't shuffle testing data\n",
    "    batch_size=1  # Predict character by character for testing\n",
    ")\n"
   ],
   "metadata": {
    "collapsed": false
   },
   "execution_count": null
  },
  {
   "cell_type": "code",
   "outputs": [],
   "source": [
    "\n",
    "tr_loss_list = []\n",
    "loss_list= []  # save losses for graphical representation\n",
    "\n",
    "# Initialize variables for early stopping\n",
    "best_model = None\n",
    "best_loss = np.inf  # Initialize with positive infinity\n",
    "patience = 6  # Number of epochs to wait for improvement before stopping\n",
    "\n",
    "# Training loop\n",
    "for epoch in tqdm(range(n_epochs)):\n",
    "    # Set model to training mode\n",
    "    model.train()\n",
    "\n",
    "    train_losses = []\n",
    "    # Iterate through training batches using the data loader\n",
    "    for X_batch, y_batch in tqdm(loader_train):\n",
    "        # Clear gradients from the previous iteration\n",
    "        optimizer.zero_grad()\n",
    "\n",
    "        # Get predictions for the current batch\n",
    "        y_pred = model(X_batch.to(device))\n",
    "\n",
    "        # Calculate loss for the current batch\n",
    "        loss = loss_fn(y_pred, y_batch.to(device))\n",
    "        train_losses.append(loss.cpu().detach().numpy())\n",
    "\n",
    "        # Calculate the average validation loss\n",
    "       \n",
    "        # Backpropagate the loss to calculate gradients\n",
    "        loss.backward()\n",
    "\n",
    "        # Update model parameters based on the gradients\n",
    "        optimizer.step()\n",
    "\n",
    "    # Validation after each epoch\n",
    "    model.eval()  # Set model to evaluation mode\n",
    "    avg_training_loss = np.mean(train_losses)\n",
    "    tr_loss_list.append(avg_training_loss)\n",
    "    print(\"training loss: \", avg_training_loss)\n",
    "    # List to store validation losses\n",
    "    validation_losses = []\n",
    "\n",
    "    # Disable gradient calculation for validation (saves memory)\n",
    "    with torch.no_grad():\n",
    "        # Iterate through testing batches\n",
    "        for X_batch, y_batch in loader_test:\n",
    "            # Get predictions for the validation batch\n",
    "            y_pred = model(X_batch.to(device))\n",
    "\n",
    "            # Calculate validation loss for the current batch\n",
    "            validation_loss = loss_fn(y_pred.to(device), y_batch.to(device)).cpu()\n",
    "\n",
    "            # Append the validation loss to the list\n",
    "            validation_losses.append(validation_loss)\n",
    "\n",
    "        # Calculate the average validation loss\n",
    "        avg_validation_loss = np.mean(validation_losses)\n",
    "\n",
    "        # Track best model and save if validation loss improves\n",
    "        if avg_validation_loss < best_loss:\n",
    "            best_loss = avg_validation_loss\n",
    "            best_model = model.state_dict()  # Save the model's state dictionary\n",
    "            torch.save([best_model, char_to_int], \"single-charLSTM_4layers.pth\")  # Save model and character mapping\n",
    "            patience = 6  # Reset patience counter for early stopping\n",
    "            print(\"**BEST**\", end=\"\")  # Print indicator for best model\n",
    "        else:\n",
    "            patience -= 1  # Decrement patience counter if validation loss doesn't improve\n",
    "\n",
    "        # Print epoch information and validation loss\n",
    "        print(\"Epoch %d: Cross-entropy: %.4f\" % (epoch +1, avg_validation_loss))\n",
    "        loss_list.append(avg_validation_loss)\n",
    "        # Implement early stopping\n",
    "        if patience <= 0:\n",
    "            print(\"Stop training!\")\n",
    "            break\n"
   ],
   "metadata": {
    "collapsed": false
   },
   "execution_count": null
  },
  {
   "cell_type": "code",
   "outputs": [],
   "source": [
    "Print_loss(tr_loss=tr_loss_list,tst_loss=loss_list)"
   ],
   "metadata": {
    "collapsed": false
   },
   "execution_count": null
  },
  {
   "cell_type": "markdown",
   "source": [
    "# Big 5 layers"
   ],
   "metadata": {
    "collapsed": false
   }
  },
  {
   "cell_type": "code",
   "outputs": [],
   "source": [
    "class CharModel(nn.Module):\n",
    "  \"\"\"\n",
    "  Character-Level Language Model using LSTM.\n",
    "\n",
    "  This class defines a recurrent neural network (RNN) model with a Long Short-Term Memory (LSTM) layer\n",
    "  for character-level language modeling.\n",
    "\n",
    "  Attributes:\n",
    "      lstm: An LSTM layer with specified input size, hidden size, number of layers, and dropout rate.\n",
    "      linear: A linear layer to map the LSTM output to the vocabulary size (number of characters).\n",
    "  \"\"\"\n",
    "\n",
    "  def __init__(self, n_vocab):\n",
    "    \"\"\"\n",
    "    Initializes the model with an LSTM layer and a linear layer.\n",
    "\n",
    "    Args:\n",
    "        None\n",
    "    \"\"\"\n",
    "    super().__init__()  # Call the superclass constructor\n",
    "\n",
    "    # Define the LSTM layer\n",
    "    self.lstm = nn.LSTM(\n",
    "        input_size=1,  # Input size: one-hot encoded characters (represented as floats here)\n",
    "        hidden_size=1024,  # Hidden size of the LSTM layer\n",
    "        num_layers=5,  # Number of LSTM layers stacked on top of each other\n",
    "        batch_first=True,  # Input tensors are of shape (batch_size, seq_len, features)\n",
    "        dropout=0.5  # Dropout rate for regularization\n",
    "    )\n",
    "\n",
    "    # Define the linear layer for output\n",
    "    self.linear = nn.Linear(1024, n_vocab)  # Map LSTM output to vocabulary size (number of characters)\n",
    "\n",
    "  def forward(self, x):\n",
    "    \"\"\"\n",
    "    Defines the forward pass of the model.\n",
    "\n",
    "    Args:\n",
    "        x: A PyTorch tensor of shape (batch_size, seq_len, features) representing the input sequences.\n",
    "\n",
    "    Returns:\n",
    "        A PyTorch tensor of shape (batch_size, vocab_size) containing the model's output logits.\n",
    "    \"\"\"\n",
    "\n",
    "    # Pass the input sequence through the LSTM layer\n",
    "    # The output (`x`) will be a tuple containing the output tensor and the hidden/cell states (not used here)\n",
    "    x, _ = self.lstm(x)\n",
    "\n",
    "    # Print the output shape for debugging purposes (can be commented out)\n",
    "    # print(x.shape)\n",
    "\n",
    "    # Take only the last output from the sequence (represents the model's prediction based on the entire sequence)\n",
    "    x = x[:, -1, :]  # Select the last element from the sequence dimension\n",
    "\n",
    "    # Pass the LSTM output through the linear layer to get logits for the next character prediction\n",
    "    x = self.linear(x)\n",
    "\n",
    "    return x\n"
   ],
   "metadata": {
    "collapsed": false
   }
  },
  {
   "cell_type": "code",
   "outputs": [],
   "source": [
    "# Hyperparameters for training\n",
    "n_epochs = 60  # Number of training epochs\n",
    "batch_size = 128  # Batch size for training\n",
    "\n",
    "# Move the model to the appropriate device (CPU or GPU)\n",
    "model = CharModel(n_vocab)\n",
    "model.to(device)\n",
    "\n",
    "# Define optimizer for training (Adam optimizer with learning rate adjustment)\n",
    "optimizer = optim.Adam(model.parameters())\n",
    "\n",
    "# Define loss function (CrossEntropyLoss for character-level prediction)\n",
    "loss_fn = nn.CrossEntropyLoss()\n",
    "\n",
    "# Create training data loader\n",
    "loader_train = data.DataLoader(\n",
    "    data.TensorDataset(X_train, y_train),  # Dataset containing input sequences and target characters\n",
    "    shuffle=True,  # Shuffle the data for each epoch\n",
    "    batch_size=batch_size  # Batch size for training\n",
    ")\n",
    "\n",
    "# Create testing data loader (without shuffling and with batch size 1 for character-by-character prediction)\n",
    "loader_test = data.DataLoader(\n",
    "    data.TensorDataset(X_test, y_test),\n",
    "    shuffle=False,  # Don't shuffle testing data\n",
    "    batch_size=1  # Predict character by character for testing\n",
    ")\n"
   ],
   "metadata": {
    "collapsed": false
   }
  },
  {
   "cell_type": "code",
   "outputs": [
    {
     "name": "stdout",
     "output_type": "stream",
     "text": [
      "Training loss minimum: 1.5521\n",
      "Validation loss minimum: 2.3254\n"
     ]
    },
    {
     "data": {
      "text/plain": "<Figure size 1000x800 with 1 Axes>",
      "image/png": "[encoded data removed]"
     },
     "metadata": {},
     "output_type": "display_data"
    }
   ],
   "source": [
    "Print_loss(tr_loss=tr_loss_list,tst_loss=loss_list)"
   ],
   "metadata": {
    "collapsed": false,
    "ExecuteTime": {
     "end_time": "2024-05-08T12:59:43.981510Z",
     "start_time": "2024-05-08T12:59:43.803613Z"
    }
   },
   "execution_count": 4
  },
  {
   "cell_type": "code",
   "outputs": [],
   "source": [
    "tr_loss_list = [2.5178,2.1020,1.9313,1.8286,1.7452,1.6894,1.6372,1.5909,1.5521]\n",
    "loss_list = [2.5105,2.4378,2.3549,2.3750,2.3254,2.3449,2.3409,2.3829,2.3952]"
   ],
   "metadata": {
    "collapsed": false,
    "ExecuteTime": {
     "end_time": "2024-05-08T12:59:32.345859Z",
     "start_time": "2024-05-08T12:59:32.343359Z"
    }
   },
   "execution_count": 3
  },
  {
   "cell_type": "code",
   "outputs": [],
   "source": [],
   "metadata": {
    "collapsed": false
   }
  }
 ],
 "metadata": {
  "accelerator": "GPU",
  "colab": {
   "provenance": []
  },
  "gpuClass": "standard",
  "kernelspec": {
   "name": "python3",
   "language": "python",
   "display_name": "Python 3 (ipykernel)"
  },
  "language_info": {
   "name": "python"
  }
 },
 "nbformat": 4,
 "nbformat_minor": 0
}
