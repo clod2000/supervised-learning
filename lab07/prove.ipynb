{
 "cells": [
  {
   "cell_type": "code",
   "outputs": [],
   "source": [
    "import re\n",
    "from collections import Counter"
   ],
   "metadata": {
    "collapsed": false,
    "ExecuteTime": {
     "end_time": "2024-05-09T15:37:40.371216Z",
     "start_time": "2024-05-09T15:37:40.369065Z"
    }
   },
   "id": "f7117d50b7a3734d",
   "execution_count": 4
  },
  {
   "cell_type": "code",
   "outputs": [
    {
     "name": "stdout",
     "output_type": "stream",
     "text": [
      "ok  title alices adventures in wonderland  author lewis carroll  release date june   ebook                  most recently updated february    language english  credits arthur dibianca and david widger\n",
      "Total Characters train: 108293\n",
      "Total Characters test: 30941\n",
      "Total Unique Characters (Vocabulary Size): 27\n",
      "Chars:  [' ', 'a', 'b', 'c', 'd', 'e', 'f', 'g', 'h', 'i', 'j', 'k', 'l', 'm', 'n', 'o', 'p', 'q', 'r', 's', 't', 'u', 'v', 'w', 'x', 'y', 'z']\n"
     ]
    }
   ],
   "source": [
    "# Download the text file \"Alice's Adventures in Wonderland\" from Project Gutenberg\n",
    "#!wget -O wonderland.txt https://www.gutenberg.org/ebooks/11.txt.utf-8\n",
    "\n",
    "# Load the text data from the downloaded file\n",
    "filename = \"wonderland.txt\"\n",
    "with open(filename, 'r', encoding='utf-8') as f:\n",
    "  raw_text = f.read()\n",
    "\n",
    "# Convert all characters to lowercase\n",
    "raw_text = raw_text.lower()\n",
    "\n",
    "# Remove non-alphanumeric characters\n",
    "raw_text = re.sub(r'\\n', ' ', raw_text)\n",
    "raw_text = re.sub(r'[^A-Za-z ]+', '', raw_text)\n",
    "\n",
    "print(raw_text[500:700])\n",
    "# Create a set of unique characters in the text\n",
    "unique_chars = set(raw_text)\n",
    "\n",
    "# Sort the unique characters\n",
    "chars = sorted(list(unique_chars))\n",
    "\n",
    "# Create a dictionary mapping each unique character to a unique integer\n",
    "char_to_int = dict((c, i) for i, c in enumerate(chars))\n",
    "\n",
    "# Split the text into training and testing sets\n",
    "train_start = int(len(raw_text) * 0.1)  # Starting index for training set (10% of text)\n",
    "train_end = int(len(raw_text) * 0.8)  # Ending index for training set (80% of text)\n",
    "test_start = train_end  # Starting index for testing set (remaining 20% of text)\n",
    "\n",
    "raw_text_train = raw_text[train_start:train_end]  # Extract training text\n",
    "raw_text_test = raw_text[test_start:]  # Extract testing text\n",
    "\n",
    "# Calculate and print some summary statistics\n",
    "n_chars_train = len(raw_text_train)\n",
    "n_chars_test = len(raw_text_test)\n",
    "n_vocab = len(chars)\n",
    "\n",
    "print(\"Total Characters train:\", n_chars_train)\n",
    "print(\"Total Characters test:\", n_chars_test)\n",
    "print(\"Total Unique Characters (Vocabulary Size):\", n_vocab)\n",
    "print(\"Chars: \",chars)"
   ],
   "metadata": {
    "collapsed": false,
    "ExecuteTime": {
     "end_time": "2024-05-09T15:34:01.722575Z",
     "start_time": "2024-05-09T15:34:01.713020Z"
    }
   },
   "id": "781745801bbf410f",
   "execution_count": 2
  },
  {
   "cell_type": "code",
   "outputs": [],
   "source": [
    "words = raw_text.split()\n",
    "word_counts = Counter(words)\n",
    "most_common_words = word_counts.most_common(10)"
   ],
   "metadata": {
    "collapsed": false,
    "ExecuteTime": {
     "end_time": "2024-05-09T15:37:59.421997Z",
     "start_time": "2024-05-09T15:37:59.415866Z"
    }
   },
   "id": "dbd4c9a0165f541",
   "execution_count": 7
  },
  {
   "cell_type": "code",
   "outputs": [
    {
     "name": "stdout",
     "output_type": "stream",
     "text": [
      "[('the', 1825), ('and', 913), ('to', 803), ('a', 690), ('of', 631), ('it', 541), ('she', 538), ('said', 462), ('you', 434), ('in', 431)]\n"
     ]
    }
   ],
   "source": [
    "print(most_common_words)"
   ],
   "metadata": {
    "collapsed": false,
    "ExecuteTime": {
     "end_time": "2024-05-09T15:37:59.835563Z",
     "start_time": "2024-05-09T15:37:59.833276Z"
    }
   },
   "id": "5f76b123d434ab83",
   "execution_count": 8
  },
  {
   "cell_type": "code",
   "outputs": [
    {
     "data": {
      "text/plain": "57"
     },
     "execution_count": 10,
     "metadata": {},
     "output_type": "execute_result"
    }
   ],
   "source": [
    "word_counts['mock']"
   ],
   "metadata": {
    "collapsed": false,
    "ExecuteTime": {
     "end_time": "2024-05-09T15:38:53.577742Z",
     "start_time": "2024-05-09T15:38:53.573019Z"
    }
   },
   "id": "4ac264d8ffc3781b",
   "execution_count": 10
  },
  {
   "cell_type": "code",
   "outputs": [
    {
     "data": {
      "text/plain": "56"
     },
     "execution_count": 11,
     "metadata": {},
     "output_type": "execute_result"
    }
   ],
   "source": [
    "word_counts['turtle']"
   ],
   "metadata": {
    "collapsed": false,
    "ExecuteTime": {
     "end_time": "2024-05-09T15:39:04.161977Z",
     "start_time": "2024-05-09T15:39:04.159168Z"
    }
   },
   "id": "e41ec34911496e4f",
   "execution_count": 11
  },
  {
   "cell_type": "code",
   "outputs": [
    {
     "data": {
      "text/plain": "44"
     },
     "execution_count": 12,
     "metadata": {},
     "output_type": "execute_result"
    }
   ],
   "source": [
    "word_counts['rabbit']"
   ],
   "metadata": {
    "collapsed": false,
    "ExecuteTime": {
     "end_time": "2024-05-09T15:47:03.221257Z",
     "start_time": "2024-05-09T15:47:03.218638Z"
    }
   },
   "id": "a67fcf21521df2cd",
   "execution_count": 12
  },
  {
   "cell_type": "code",
   "outputs": [
    {
     "name": "stdout",
     "output_type": "stream",
     "text": [
      "54\n"
     ]
    }
   ],
   "source": [
    "matches = [(match.start(), match.end()) for match in re.finditer(r\"the mock turtle\", raw_text)]\n",
    "print(len(matches))"
   ],
   "metadata": {
    "collapsed": false,
    "ExecuteTime": {
     "end_time": "2024-05-09T15:49:15.710618Z",
     "start_time": "2024-05-09T15:49:15.707478Z"
    }
   },
   "id": "9ec47ed9d0fe7bc8",
   "execution_count": 17
  },
  {
   "cell_type": "code",
   "outputs": [
    {
     "name": "stdout",
     "output_type": "stream",
     "text": [
      "173\n"
     ]
    }
   ],
   "source": [
    "matches = [(match.start(), match.end()) for match in re.finditer(r\"the m\", raw_text)]\n",
    "print(len(matches))"
   ],
   "metadata": {
    "collapsed": false,
    "ExecuteTime": {
     "end_time": "2024-05-09T15:50:17.205747Z",
     "start_time": "2024-05-09T15:50:17.202044Z"
    }
   },
   "id": "a05af83cee9c1ad3",
   "execution_count": 18
  },
  {
   "cell_type": "code",
   "outputs": [
    {
     "name": "stdout",
     "output_type": "stream",
     "text": [
      "26\n"
     ]
    }
   ],
   "source": [
    "matches = [(match.start(), match.end()) for match in re.finditer(r\"the rabbit\", raw_text)]\n",
    "print(len(matches))\n"
   ],
   "metadata": {
    "collapsed": false,
    "ExecuteTime": {
     "end_time": "2024-05-09T15:50:43.412242Z",
     "start_time": "2024-05-09T15:50:43.409259Z"
    }
   },
   "id": "c48dccb6d6f44a38",
   "execution_count": 19
  },
  {
   "cell_type": "code",
   "outputs": [
    {
     "name": "stdout",
     "output_type": "stream",
     "text": [
      "83\n"
     ]
    }
   ],
   "source": [
    "matches = [(match.start(), match.end()) for match in re.finditer(r\"the r\", raw_text)]\n",
    "print(len(matches))"
   ],
   "metadata": {
    "collapsed": false,
    "ExecuteTime": {
     "end_time": "2024-05-09T15:50:49.981957Z",
     "start_time": "2024-05-09T15:50:49.979213Z"
    }
   },
   "id": "956bd0352079bfb9",
   "execution_count": 21
  },
  {
   "cell_type": "code",
   "outputs": [],
   "source": [],
   "metadata": {
    "collapsed": false
   },
   "id": "f4bd669c4a1f91f6"
  },
  {
   "cell_type": "code",
   "outputs": [
    {
     "name": "stdout",
     "output_type": "stream",
     "text": [
      "26\n"
     ]
    }
   ],
   "source": [
    "matches = [(match.start(), match.end()) for match in re.finditer(r\"the caterpillar\", raw_text)]\n",
    "print(len(matches))"
   ],
   "metadata": {
    "collapsed": false,
    "ExecuteTime": {
     "end_time": "2024-05-09T16:04:19.985570Z",
     "start_time": "2024-05-09T16:04:19.982230Z"
    }
   },
   "id": "dce28ee92dce2f34",
   "execution_count": 30
  },
  {
   "cell_type": "code",
   "outputs": [
    {
     "name": "stdout",
     "output_type": "stream",
     "text": [
      "142\n"
     ]
    }
   ],
   "source": [
    "matches = [(match.start(), match.end()) for match in re.finditer(r\"the c\", raw_text)]\n",
    "print(len(matches))"
   ],
   "metadata": {
    "collapsed": false,
    "ExecuteTime": {
     "end_time": "2024-05-09T16:04:11.903528Z",
     "start_time": "2024-05-09T16:04:11.900949Z"
    }
   },
   "id": "29ec9b3f2e393ff7",
   "execution_count": 29
  },
  {
   "cell_type": "code",
   "outputs": [
    {
     "data": {
      "text/plain": "29463"
     },
     "execution_count": 22,
     "metadata": {},
     "output_type": "execute_result"
    }
   ],
   "source": [
    "len(words)"
   ],
   "metadata": {
    "collapsed": false,
    "ExecuteTime": {
     "end_time": "2024-05-09T15:57:34.708352Z",
     "start_time": "2024-05-09T15:57:34.706164Z"
    }
   },
   "id": "101e24ab3832440f",
   "execution_count": 22
  },
  {
   "cell_type": "code",
   "outputs": [
    {
     "data": {
      "text/plain": "3193"
     },
     "execution_count": 27,
     "metadata": {},
     "output_type": "execute_result"
    }
   ],
   "source": [
    "len(word_counts)"
   ],
   "metadata": {
    "collapsed": false,
    "ExecuteTime": {
     "end_time": "2024-05-09T16:00:12.844696Z",
     "start_time": "2024-05-09T16:00:12.841653Z"
    }
   },
   "id": "bd6c976b2bc73cc7",
   "execution_count": 27
  },
  {
   "cell_type": "code",
   "outputs": [
    {
     "data": {
      "text/plain": "Counter({'the': 1825,\n         'and': 913,\n         'to': 803,\n         'a': 690,\n         'of': 631,\n         'it': 541,\n         'she': 538,\n         'said': 462,\n         'you': 434,\n         'in': 431,\n         'i': 401,\n         'alice': 385,\n         'was': 359,\n         'that': 291,\n         'as': 272,\n         'her': 248,\n         'with': 228,\n         'at': 222,\n         'on': 204,\n         'all': 196,\n         'this': 179,\n         'for': 179,\n         'had': 178,\n         'not': 172,\n         'but': 168,\n         'be': 163,\n         'or': 153,\n         'so': 152,\n         'very': 145,\n         'what': 137,\n         'little': 129,\n         'they': 129,\n         'is': 124,\n         'he': 122,\n         'if': 116,\n         'out': 114,\n         'its': 114,\n         'down': 102,\n         'about': 102,\n         'one': 102,\n         'up': 101,\n         'no': 97,\n         'do': 97,\n         'his': 96,\n         'then': 90,\n         'project': 88,\n         'gutenberg': 87,\n         'have': 87,\n         'were': 87,\n         'know': 86,\n         'like': 85,\n         'them': 84,\n         'would': 83,\n         'went': 83,\n         'herself': 83,\n         'by': 82,\n         'again': 82,\n         'when': 80,\n         'could': 78,\n         'there': 77,\n         'are': 76,\n         'any': 76,\n         'thought': 74,\n         'off': 73,\n         'your': 71,\n         'see': 69,\n         'time': 68,\n         'how': 68,\n         'me': 68,\n         'queen': 68,\n         'into': 67,\n         'who': 65,\n         'did': 62,\n         'an': 62,\n         'king': 61,\n         'well': 60,\n         'dont': 60,\n         'began': 58,\n         'my': 58,\n         'mock': 57,\n         'im': 57,\n         'now': 57,\n         'other': 56,\n         'which': 56,\n         'turtle': 56,\n         'quite': 55,\n         'hatter': 55,\n         'gryphon': 55,\n         'way': 54,\n         'must': 54,\n         'think': 53,\n         'work': 53,\n         'from': 52,\n         'much': 52,\n         'some': 52,\n         'their': 52,\n         'just': 51,\n         'only': 51,\n         'say': 50,\n         'go': 50,\n         'first': 49,\n         'thing': 49,\n         'more': 49,\n         'here': 48,\n         'head': 48,\n         'such': 47,\n         'voice': 47,\n         'get': 46,\n         'come': 46,\n         'looked': 45,\n         'never': 45,\n         'got': 45,\n         'rabbit': 44,\n         'can': 44,\n         'after': 42,\n         'before': 41,\n         'round': 41,\n         'him': 41,\n         'over': 40,\n         'came': 40,\n         'tone': 40,\n         'will': 39,\n         'great': 39,\n         'why': 39,\n         'two': 39,\n         'duchess': 39,\n         'dormouse': 39,\n         'oh': 38,\n         'mouse': 38,\n         'been': 38,\n         'back': 38,\n         'we': 38,\n         'right': 35,\n         'cat': 35,\n         'long': 34,\n         'nothing': 34,\n         'found': 34,\n         'ive': 34,\n         'without': 33,\n         'large': 33,\n         'thats': 33,\n         'ill': 33,\n         'last': 33,\n         'march': 33,\n         'works': 33,\n         'once': 32,\n         'put': 31,\n         'tell': 31,\n         'hare': 31,\n         'use': 30,\n         'made': 30,\n         'white': 30,\n         'next': 30,\n         'things': 30,\n         'heard': 30,\n         'looking': 30,\n         'dear': 29,\n         'moment': 29,\n         'make': 29,\n         'door': 29,\n         'replied': 29,\n         'may': 28,\n         'caterpillar': 28,\n         'look': 28,\n         'upon': 28,\n         'should': 28,\n         'might': 28,\n         'cant': 28,\n         'away': 27,\n         'eyes': 27,\n         'shall': 27,\n         'seemed': 27,\n         'going': 27,\n         'than': 27,\n         'poor': 27,\n         'electronic': 27,\n         'too': 26,\n         'three': 26,\n         'day': 25,\n         'rather': 25,\n         'soon': 25,\n         'while': 25,\n         'same': 25,\n         'course': 25,\n         'chapter': 24,\n         'took': 24,\n         'good': 24,\n         'theres': 24,\n         'sure': 24,\n         'wont': 24,\n         'terms': 23,\n         'youre': 23,\n         'felt': 23,\n         'added': 23,\n         'under': 22,\n         'getting': 22,\n         'another': 22,\n         'please': 22,\n         'wish': 22,\n         'ever': 22,\n         'set': 22,\n         'yet': 22,\n         'us': 22,\n         'foundation': 22,\n         'e': 22,\n         'take': 21,\n         'anything': 21,\n         'words': 21,\n         'however': 21,\n         'half': 21,\n         'find': 21,\n         'minute': 21,\n         'till': 21,\n         'old': 21,\n         'states': 20,\n         'even': 20,\n         'sort': 20,\n         'hand': 20,\n         'cried': 20,\n         'feet': 19,\n         'tried': 19,\n         'end': 19,\n         'curious': 19,\n         'being': 19,\n         'full': 19,\n         'copyright': 19,\n         'where': 18,\n         'wonder': 18,\n         'house': 18,\n         'eat': 18,\n         'table': 18,\n         'something': 18,\n         'soup': 18,\n         'court': 18,\n         'agreement': 18,\n         'alices': 17,\n         'license': 17,\n         'let': 17,\n         'perhaps': 17,\n         'talking': 17,\n         'question': 17,\n         'side': 17,\n         'sat': 17,\n         'enough': 17,\n         'these': 17,\n         'asked': 17,\n         'jury': 17,\n         'give': 16,\n         'ran': 16,\n         'through': 16,\n         'people': 16,\n         'bit': 16,\n         'turned': 16,\n         'high': 16,\n         'indeed': 16,\n         'because': 16,\n         'hastily': 16,\n         'doesnt': 16,\n         'spoke': 16,\n         'united': 15,\n         'mad': 15,\n         'hear': 15,\n         'near': 15,\n         'idea': 15,\n         'cats': 15,\n         'saying': 15,\n         'garden': 15,\n         'knew': 15,\n         'gave': 15,\n         'am': 15,\n         'used': 15,\n         'done': 15,\n         'change': 15,\n         'called': 15,\n         'both': 15,\n         'donations': 15,\n         'most': 14,\n         'beginning': 14,\n         'itself': 14,\n         'ought': 14,\n         'seen': 14,\n         'saw': 14,\n         'many': 14,\n         'didnt': 14,\n         'air': 14,\n         'remember': 14,\n         'low': 14,\n         'trying': 14,\n         'certainly': 14,\n         'read': 14,\n         'face': 14,\n         'left': 14,\n         'anxiously': 14,\n         'speak': 14,\n         'suppose': 14,\n         'talk': 14,\n         'better': 14,\n         'silence': 14,\n         'beautiful': 14,\n         'ebook': 13,\n         'bill': 13,\n         'suddenly': 13,\n         'close': 13,\n         'wouldnt': 13,\n         'still': 13,\n         'yes': 13,\n         'behind': 13,\n         'begin': 13,\n         'really': 13,\n         'size': 13,\n         'grow': 13,\n         'far': 13,\n         'kept': 13,\n         'nearly': 13,\n         'sea': 13,\n         'dodo': 13,\n         'whole': 13,\n         'room': 13,\n         'gone': 13,\n         'keep': 13,\n         'theyre': 13,\n         'cook': 13,\n         'dance': 13,\n         'trademark': 13,\n         'literary': 13,\n         'archive': 13,\n         'copy': 12,\n         'tears': 12,\n         'among': 12,\n         'afraid': 12,\n         'every': 12,\n         'small': 12,\n         'finished': 12,\n         'best': 12,\n         'game': 12,\n         'hardly': 12,\n         'makes': 12,\n         'life': 12,\n         'deal': 12,\n         'help': 12,\n         'try': 12,\n         'hands': 12,\n         'our': 12,\n         'always': 12,\n         'turning': 12,\n         'arm': 12,\n         'pigeon': 12,\n         'baby': 12,\n         'tea': 12,\n         'majesty': 12,\n         'pool': 11,\n         'whether': 11,\n         'hurried': 11,\n         'either': 11,\n         'though': 11,\n         'heads': 11,\n         'glad': 11,\n         'word': 11,\n         'ask': 11,\n         'name': 11,\n         'dinah': 11,\n         'those': 11,\n         'hurry': 11,\n         'waited': 11,\n         'minutes': 11,\n         'growing': 11,\n         'thinking': 11,\n         'id': 11,\n         'does': 11,\n         'wasnt': 11,\n         'agree': 11,\n         'paragraph': 11,\n         'f': 11,\n         'adventures': 10,\n         'laws': 10,\n         'sitting': 10,\n         'having': 10,\n         'own': 10,\n         'mind': 10,\n         'lessons': 10,\n         'else': 10,\n         'sight': 10,\n         'walked': 10,\n         'opened': 10,\n         'few': 10,\n         'bottle': 10,\n         'children': 10,\n         'hold': 10,\n         'against': 10,\n         'child': 10,\n         'foot': 10,\n         'yourself': 10,\n         'gloves': 10,\n         'fan': 10,\n         'queer': 10,\n         'everything': 10,\n         'different': 10,\n         'youd': 10,\n         'offended': 10,\n         'creatures': 10,\n         'explain': 10,\n         'rest': 10,\n         'mean': 10,\n         'mouth': 10,\n         'turn': 10,\n         'repeated': 10,\n         'footman': 10,\n         'remarked': 10,\n         'remark': 10,\n         'soldiers': 10,\n         'witness': 10,\n         'access': 10,\n         'refund': 10,\n         'world': 9,\n         'pig': 9,\n         'queens': 9,\n         'story': 9,\n         'coming': 9,\n         'opportunity': 9,\n         'written': 9,\n         'couldnt': 9,\n         'answer': 9,\n         'matter': 9,\n         'hall': 9,\n         'glass': 9,\n         'key': 9,\n         'rate': 9,\n         'waiting': 9,\n         'leave': 9,\n         'want': 9,\n         'tail': 9,\n         'conversation': 9,\n         'birds': 9,\n         'party': 9,\n         'continued': 9,\n         'believe': 9,\n         'has': 9,\n         'call': 9,\n         'law': 9,\n         'angrily': 9,\n         'shook': 9,\n         'reason': 9,\n         'together': 9,\n         'place': 9,\n         'shouted': 9,\n         'each': 9,\n         'timidly': 9,\n         'serpent': 9,\n         'puzzled': 9,\n         'interrupted': 9,\n         'knave': 9,\n         'join': 9,\n         'including': 9,\n         'almost': 8,\n         'using': 8,\n         'pepper': 8,\n         'lobster': 8,\n         'tarts': 8,\n         'evidence': 8,\n         'sister': 8,\n         'feel': 8,\n         'making': 8,\n         'watch': 8,\n         'slowly': 8,\n         'happen': 8,\n         'noticed': 8,\n         'top': 8,\n         'itll': 8,\n         'seem': 8,\n         'new': 8,\n         'dry': 8,\n         'except': 8,\n         'marked': 8,\n         'fact': 8,\n         'followed': 8,\n         'person': 8,\n         'lying': 8,\n         'kind': 8,\n         'ready': 8,\n         'hard': 8,\n         'changed': 8,\n         'mine': 8,\n         'five': 8,\n         'live': 8,\n         'play': 8,\n         'learn': 8,\n         'number': 8,\n         'hadnt': 8,\n         'sentence': 8,\n         'beg': 8,\n         'eagerly': 8,\n         'sit': 8,\n         'notice': 8,\n         'meaning': 8,\n         'running': 8,\n         'everybody': 8,\n         'exactly': 8,\n         'others': 8,\n         'nobody': 8,\n         'window': 8,\n         'least': 8,\n         'business': 8,\n         'appeared': 8,\n         'mushroom': 8,\n         'havent': 8,\n         'nose': 8,\n         'free': 8,\n         'days': 8,\n         'asleep': 8,\n         'hearts': 8,\n         'twinkle': 8,\n         'gardeners': 8,\n         'moral': 8,\n         'whiting': 8,\n         'forth': 8,\n         'fee': 8,\n         'information': 8,\n         'wonderland': 7,\n         'located': 7,\n         'english': 7,\n         'tired': 7,\n         'book': 7,\n         'deep': 7,\n         'somebody': 7,\n         'fall': 7,\n         'listen': 7,\n         'manage': 7,\n         'begun': 7,\n         'dream': 7,\n         'middle': 7,\n         'wondering': 7,\n         'golden': 7,\n         'open': 7,\n         'larger': 7,\n         'bright': 7,\n         'happened': 7,\n         'neck': 7,\n         'drink': 7,\n         'feeling': 7,\n         'generally': 7,\n         'eye': 7,\n         'surprised': 7,\n         'shoes': 7,\n         'myself': 7,\n         'nonsense': 7,\n         'distance': 7,\n         'sir': 7,\n         'hair': 7,\n         'goes': 7,\n         'shes': 7,\n         'repeat': 7,\n         'frightened': 7,\n         'chin': 7,\n         'understand': 7,\n         'william': 7,\n         'history': 7,\n         'subject': 7,\n         'fetch': 7,\n         'lory': 7,\n         'means': 7,\n         'trial': 7,\n         'stood': 7,\n         'grown': 7,\n         'wood': 7,\n         'trees': 7,\n         'isnt': 7,\n         'draw': 7,\n         'silent': 7,\n         'cheshire': 7,\n         'pleased': 7,\n         'song': 7,\n         'hedgehog': 7,\n         'lobsters': 7,\n         'soooop': 7,\n         'writing': 7,\n         'slates': 7,\n         'distributing': 7,\n         'copies': 7,\n         'ebooks': 7,\n         'associated': 7,\n         'section': 7,\n         'provide': 7,\n         'stupid': 6,\n         'trouble': 6,\n         'late': 6,\n         'fell': 6,\n         'four': 6,\n         'nice': 6,\n         'leaves': 6,\n         'jumped': 6,\n         'roof': 6,\n         'second': 6,\n         'inches': 6,\n         'forgotten': 6,\n         'ten': 6,\n         'croquet': 6,\n         'shant': 6,\n         'stop': 6,\n         'himself': 6,\n         'times': 6,\n         'seven': 6,\n         'grin': 6,\n         'general': 6,\n         'pardon': 6,\n         'trembling': 6,\n         'youll': 6,\n         'important': 6,\n         'politely': 6,\n         'melancholy': 6,\n         'liked': 6,\n         'chorus': 6,\n         'executed': 6,\n         'broken': 6,\n         'write': 6,\n         'outside': 6,\n         'below': 6,\n         'loud': 6,\n         'sharp': 6,\n         'puppy': 6,\n         'arms': 6,\n         'state': 6,\n         'father': 6,\n         'stand': 6,\n         'youth': 6,\n         'often': 6,\n         'sleep': 6,\n         'youve': 6,\n         'sneezing': 6,\n         'between': 6,\n         'told': 6,\n         'ear': 6,\n         'wow': 6,\n         'dreadfully': 6,\n         'sing': 6,\n         'exclaimed': 6,\n         'breadandbutter': 6,\n         'part': 6,\n         'editions': 6,\n         'received': 6,\n         'distribute': 6,\n         'permission': 6,\n         'charge': 6,\n         'distribution': 6,\n         'comply': 6,\n         'paid': 6,\n         'tax': 6,\n         'anyone': 5,\n         'wwwgutenbergorg': 5,\n         'country': 5,\n         'tale': 5,\n         'turtles': 5,\n         'quadrille': 5,\n         'twice': 5,\n         'hot': 5,\n         'sleepy': 5,\n         'across': 5,\n         'curiosity': 5,\n         'passed': 5,\n         'home': 5,\n         'likely': 5,\n         'aloud': 5,\n         'several': 5,\n         'walk': 5,\n         'asking': 5,\n         'sometimes': 5,\n         'walking': 5,\n         'ears': 5,\n         'sadly': 5,\n         'along': 5,\n         'shut': 5,\n         'paper': 5,\n         'simple': 5,\n         'cut': 5,\n         'finger': 5,\n         'certain': 5,\n         'nervous': 5,\n         'altogether': 5,\n         'fancy': 5,\n         'remembered': 5,\n         'happens': 5,\n         'pair': 5,\n         'nine': 5,\n         'until': 5,\n         'kid': 5,\n         'dropped': 5,\n         'usual': 5,\n         'morning': 5,\n         'ah': 5,\n         'lets': 5,\n         'wrong': 5,\n         'sounded': 5,\n         'strange': 5,\n         'seems': 5,\n         'stay': 5,\n         'sudden': 5,\n         'alone': 5,\n         'cause': 5,\n         'case': 5,\n         'swam': 5,\n         'nearer': 5,\n         'speaking': 5,\n         'animals': 5,\n         'shrill': 5,\n         'angry': 5,\n         'crowded': 5,\n         'whats': 5,\n         'prizes': 5,\n         'pocket': 5,\n         'dare': 5,\n         'confusion': 5,\n         'reply': 5,\n         'finish': 5,\n         'impatiently': 5,\n         'sighed': 5,\n         'temper': 5,\n         'young': 5,\n         'particular': 5,\n         'moved': 5,\n         'swim': 5,\n         'doing': 5,\n         'direction': 5,\n         'interesting': 5,\n         'chimney': 5,\n         'become': 5,\n         'shouldnt': 5,\n         'taking': 5,\n         'shriek': 5,\n         'drew': 5,\n         'instantly': 5,\n         'surprise': 5,\n         'lizard': 5,\n         'height': 5,\n         'quietly': 5,\n         'hookah': 5,\n         'man': 5,\n         'eggs': 5,\n         'tree': 5,\n         'within': 5,\n         'meant': 5,\n         'waving': 5,\n         'treacle': 5,\n         'piece': 5,\n         'faces': 5,\n         'procession': 5,\n         'rule': 5,\n         'pack': 5,\n         'knee': 5,\n         'whispered': 5,\n         'flamingo': 5,\n         'executioner': 5,\n         'unless': 5,\n         'tis': 5,\n         'school': 5,\n         'form': 5,\n         'jurymen': 5,\n         'cannot': 5,\n         'protected': 5,\n         'compliance': 5,\n         'medium': 5,\n         'replacement': 5,\n         'volunteers': 5,\n         'limited': 5,\n         'cost': 4,\n         'online': 4,\n         'check': 4,\n         'rabbithole': 4,\n         'caucusrace': 4,\n         'croquetground': 4,\n         'reading': 4,\n         'pictures': 4,\n         'worth': 4,\n         'natural': 4,\n         'sides': 4,\n         'fear': 4,\n         'managed': 4,\n         'theyll': 4,\n         'true': 4,\n         'fallen': 4,\n         'earth': 4,\n         'sound': 4,\n         'girl': 4,\n         'miss': 4,\n         'hope': 4,\n         'bats': 4,\n         'passage': 4,\n         'tiny': 4,\n         'alas': 4,\n         'led': 4,\n         'shoulders': 4,\n         'rules': 4,\n         'taught': 4,\n         'deeply': 4,\n         'ventured': 4,\n         'further': 4,\n         'reach': 4,\n         'sharply': 4,\n         'severely': 4,\n         'box': 4,\n         'care': 4,\n         'boots': 4,\n         'savage': 4,\n         'violently': 4,\n         'today': 4,\n         'age': 4,\n         'mabel': 4,\n         'besides': 4,\n         'puzzling': 4,\n         'twelve': 4,\n         'capital': 4,\n         'rabbits': 4,\n         'shrinking': 4,\n         'escape': 4,\n         'water': 4,\n         'digging': 4,\n         'french': 4,\n         'paws': 4,\n         'dogs': 4,\n         'says': 4,\n         'pale': 4,\n         'duck': 4,\n         'uncomfortable': 4,\n         'argument': 4,\n         'allow': 4,\n         'wanted': 4,\n         'frowning': 4,\n         'solemnly': 4,\n         'pointing': 4,\n         'confused': 4,\n         'thimble': 4,\n         'short': 4,\n         'bowed': 4,\n         'met': 4,\n         'judge': 4,\n         'breath': 4,\n         'easily': 4,\n         'tongue': 4,\n         'since': 4,\n         'vanished': 4,\n         'mary': 4,\n         'ann': 4,\n         'run': 4,\n         'theyd': 4,\n         'chance': 4,\n         'ordered': 4,\n         'answered': 4,\n         'yer': 4,\n         'honour': 4,\n         'sounds': 4,\n         'hearing': 4,\n         'fellow': 4,\n         'thank': 4,\n         'dead': 4,\n         'doubt': 4,\n         'lay': 4,\n         'crowd': 4,\n         'held': 4,\n         'guineapigs': 4,\n         'plan': 4,\n         'difficulty': 4,\n         'stick': 4,\n         'grass': 4,\n         'perfectly': 4,\n         'none': 4,\n         'stuff': 4,\n         'decidedly': 4,\n         'thoughtfully': 4,\n         'green': 4,\n         'screamed': 4,\n         'indignantly': 4,\n         'taken': 4,\n         'sky': 4,\n         'lives': 4,\n         'otherwise': 4,\n         'ground': 4,\n         'dish': 4,\n         'kitchen': 4,\n         'jumping': 4,\n         'carried': 4,\n         'hours': 4,\n         'busily': 4,\n         'beat': 4,\n         'verse': 4,\n         'creature': 4,\n         'grunted': 4,\n         'also': 4,\n         'less': 4,\n         'explanation': 4,\n         'fast': 4,\n         'crumbs': 4,\n         'shoulder': 4,\n         'twinkling': 4,\n         'sigh': 4,\n         'bottom': 4,\n         'begins': 4,\n         'm': 4,\n         'rosetree': 4,\n         'consider': 4,\n         'arches': 4,\n         'players': 4,\n         'removed': 4,\n         'keeping': 4,\n         'sobs': 4,\n         'porpoise': 4,\n         'beauootiful': 4,\n         'trials': 4,\n         'jurybox': 4,\n         'jurors': 4,\n         'officers': 4,\n         'suppressed': 4,\n         'verses': 4,\n         'creating': 4,\n         'copying': 4,\n         'following': 4,\n         'mission': 4,\n         'phrase': 4,\n         'c': 4,\n         'collection': 4,\n         'individual': 4,\n         'displaying': 4,\n         'support': 4,\n         'freely': 4,\n         'format': 4,\n         'status': 4,\n         'distributed': 4,\n         'posted': 4,\n         'holder': 4,\n         'fees': 4,\n         'providing': 4,\n         'requirements': 4,\n         'website': 4,\n         'provided': 4,\n         'owner': 4,\n         'damages': 4,\n         'anywhere': 3,\n         'parts': 3,\n         'included': 3,\n         'date': 3,\n         'start': 3,\n         'ii': 3,\n         'advice': 3,\n         'teaparty': 3,\n         'stole': 3,\n         'peeped': 3,\n         'considering': 3,\n         'nor': 3,\n         'dark': 3,\n         'filled': 3,\n         'stairs': 3,\n         'miles': 3,\n         'somewhere': 3,\n         'knowledge': 3,\n         'grand': 3,\n         'funny': 3,\n         'listening': 3,\n         'shell': 3,\n         'mice': 3,\n         'catch': 3,\n         'bat': 3,\n         'hurt': 3,\n         'lost': 3,\n         'corner': 3,\n         'whiskers': 3,\n         'longer': 3,\n         'hanging': 3,\n         'delight': 3,\n         'telescope': 3,\n         'outoftheway': 3,\n         'impossible': 3,\n         'hoping': 3,\n         'printed': 3,\n         'poison': 3,\n         'later': 3,\n         'finding': 3,\n         'candle': 3,\n         'decided': 3,\n         'possibly': 3,\n         'legs': 3,\n         'bring': 3,\n         'fond': 3,\n         'cake': 3,\n         'smaller': 3,\n         'holding': 3,\n         'remained': 3,\n         'expecting': 3,\n         'dull': 3,\n         'opening': 3,\n         'dears': 3,\n         'sending': 3,\n         'directions': 3,\n         'love': 3,\n         'cry': 3,\n         'pattering': 3,\n         'muttering': 3,\n         'timid': 3,\n         'yesterday': 3,\n         'night': 3,\n         'sorts': 3,\n         'doth': 3,\n         'crossed': 3,\n         'hoarse': 3,\n         ...})"
     },
     "execution_count": 28,
     "metadata": {},
     "output_type": "execute_result"
    }
   ],
   "source": [
    "word_counts"
   ],
   "metadata": {
    "collapsed": false,
    "ExecuteTime": {
     "end_time": "2024-05-09T16:00:35.995782Z",
     "start_time": "2024-05-09T16:00:35.985843Z"
    }
   },
   "id": "1ebdd41314b55be3",
   "execution_count": 28
  },
  {
   "cell_type": "code",
   "outputs": [],
   "source": [],
   "metadata": {
    "collapsed": false
   },
   "id": "386ad18cd0b13fa0"
  }
 ],
 "metadata": {
  "kernelspec": {
   "display_name": "Python 3",
   "language": "python",
   "name": "python3"
  },
  "language_info": {
   "codemirror_mode": {
    "name": "ipython",
    "version": 2
   },
   "file_extension": ".py",
   "mimetype": "text/x-python",
   "name": "python",
   "nbconvert_exporter": "python",
   "pygments_lexer": "ipython2",
   "version": "2.7.6"
  }
 },
 "nbformat": 4,
 "nbformat_minor": 5
}
